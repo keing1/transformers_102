{
 "cells": [
  {
   "cell_type": "markdown",
   "metadata": {},
   "source": [
    "In this notebook, I validate a part of my implementation of the LLaMa 7B model by comparing the LLaMA transformer block with my implementation of the LLaMA transformer block."
   ]
  },
  {
   "cell_type": "code",
   "execution_count": 1,
   "metadata": {},
   "outputs": [],
   "source": [
    "import torch as t\n",
    "import sys\n",
    "import os\n",
    "notebook_path = os.path.abspath('')\n",
    "project_root = os.path.join(notebook_path, '..')\n",
    "sys.path.append(project_root)"
   ]
  },
  {
   "cell_type": "code",
   "execution_count": 3,
   "metadata": {},
   "outputs": [
    {
     "data": {
      "application/vnd.jupyter.widget-view+json": {
       "model_id": "02e99ecf32a74e2c8705c60a34177a0d",
       "version_major": 2,
       "version_minor": 0
      },
      "text/plain": [
       "Loading checkpoint shards:   0%|          | 0/2 [00:00<?, ?it/s]"
      ]
     },
     "metadata": {},
     "output_type": "display_data"
    }
   ],
   "source": [
    "from transformers import AutoTokenizer, AutoModelForCausalLM\n",
    "\n",
    "tokenizer = AutoTokenizer.from_pretrained(\"huggyllama/llama-7b\")\n",
    "model = AutoModelForCausalLM.from_pretrained(\"huggyllama/llama-7b\")\n",
    "\n",
    "t.save(model.model.layers[0], 'llama7b_block.pt')"
   ]
  },
  {
   "cell_type": "markdown",
   "metadata": {},
   "source": [
    "## Comparing Llama 7B components with my implementation"
   ]
  },
  {
   "cell_type": "code",
   "execution_count": 2,
   "metadata": {},
   "outputs": [],
   "source": [
    "from src.models import Llama7BModel\n",
    "import torch as t\n",
    "\n",
    "my_model = Llama7BModel()\n",
    "\n",
    "llama_block = t.load('llama7b_block.pt')\n",
    "my_block = my_model.transformer_blocks[0]"
   ]
  },
  {
   "cell_type": "code",
   "execution_count": 3,
   "metadata": {},
   "outputs": [],
   "source": [
    "my_block.norm_layer1.weight = llama_block.input_layernorm.weight\n",
    "my_block.norm_layer2.weight = llama_block.post_attention_layernorm.weight\n",
    "\n",
    "my_block.mha_block.linear_q.weight = t.nn.Parameter(llama_block.self_attn.q_proj.weight)\n",
    "my_block.mha_block.linear_k.weight = t.nn.Parameter(llama_block.self_attn.k_proj.weight)\n",
    "my_block.mha_block.linear_v.weight = t.nn.Parameter(llama_block.self_attn.v_proj.weight)\n",
    "my_block.mha_block.linear_o.weight = t.nn.Parameter(llama_block.self_attn.o_proj.weight)\n",
    "\n",
    "my_block.mlp_block.linear_gate.weight = t.nn.Parameter(llama_block.mlp.gate_proj.weight)\n",
    "my_block.mlp_block.linear_up.weight = t.nn.Parameter(llama_block.mlp.up_proj.weight)\n",
    "my_block.mlp_block.linear_down.weight = t.nn.Parameter(llama_block.mlp.down_proj.weight)\n"
   ]
  },
  {
   "cell_type": "markdown",
   "metadata": {},
   "source": [
    "### MLP blocks"
   ]
  },
  {
   "cell_type": "code",
   "execution_count": 4,
   "metadata": {},
   "outputs": [
    {
     "data": {
      "text/plain": [
       "True"
      ]
     },
     "execution_count": 4,
     "metadata": {},
     "output_type": "execute_result"
    }
   ],
   "source": [
    "x = t.randn((1,8,4096))\n",
    "t.allclose(my_block.mlp_block(x), llama_block.mlp(x))"
   ]
  },
  {
   "cell_type": "markdown",
   "metadata": {},
   "source": [
    "### Multihead attention\n"
   ]
  },
  {
   "cell_type": "code",
   "execution_count": 5,
   "metadata": {},
   "outputs": [
    {
     "data": {
      "text/plain": [
       "True"
      ]
     },
     "execution_count": 5,
     "metadata": {},
     "output_type": "execute_result"
    }
   ],
   "source": [
    "x = t.randn((1,8,4096))\n",
    "\n",
    "seq_len = x.shape[-2]\n",
    "att_mask = t.where(t.arange(seq_len).unsqueeze(1) < t.arange(seq_len), -t.inf, 0)\n",
    "\n",
    "m_off_out = my_block.mha_block(x)\n",
    "llama_off_out = llama_block.self_attn(x)[0]\n",
    "\n",
    "t.allclose(my_block.mha_block(x), llama_block.self_attn(x)[0], atol=1e-6)"
   ]
  },
  {
   "cell_type": "markdown",
   "metadata": {},
   "source": [
    "### Overall transformer block"
   ]
  },
  {
   "cell_type": "code",
   "execution_count": 6,
   "metadata": {},
   "outputs": [
    {
     "data": {
      "text/plain": [
       "True"
      ]
     },
     "execution_count": 6,
     "metadata": {},
     "output_type": "execute_result"
    }
   ],
   "source": [
    "x = t.randn((1,8,4096))\n",
    "seq_len = x.shape[-2]\n",
    "att_mask = t.where(t.arange(seq_len).unsqueeze(1) < t.arange(seq_len), -t.inf, 0)\n",
    "\n",
    "# My transformer block adds an attention mask automatically, while the llama one is added by the surrounding model running code\n",
    "t.allclose(my_block(x), llama_block(x, attention_mask=att_mask.unsqueeze(0).unsqueeze(0))[0], atol=1e-6)"
   ]
  }
 ],
 "metadata": {
  "kernelspec": {
   "display_name": "gen_dev",
   "language": "python",
   "name": "gen_dev"
  },
  "language_info": {
   "codemirror_mode": {
    "name": "ipython",
    "version": 3
   },
   "file_extension": ".py",
   "mimetype": "text/x-python",
   "name": "python",
   "nbconvert_exporter": "python",
   "pygments_lexer": "ipython3",
   "version": "3.7.2"
  },
  "orig_nbformat": 4,
  "vscode": {
   "interpreter": {
    "hash": "e331e48de76bb43733bbd274999388eb77b5b84edd92dd66da070c84617b5c9a"
   }
  }
 },
 "nbformat": 4,
 "nbformat_minor": 2
}
