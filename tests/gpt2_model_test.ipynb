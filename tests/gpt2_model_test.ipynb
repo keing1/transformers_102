{
 "cells": [
  {
   "cell_type": "markdown",
   "metadata": {},
   "source": [
    "In this notebook, I validate my implementation of transformer components and GPT-2 small by:\n",
    "- Comparing the behavior of a GPT-2 transformer block with my own implementation of a GPT-2 transformer block\n",
    "- Comparing the behavior of the GPT-2 embedding components with my own implementation of the GPT-2 embedding components\n",
    "- Comparing the behavior of the full GPT-2 model with my own implementation of the full GPT-2 model\n",
    "- Sampling from my implementation of the full GPT-2 model\n",
    "\n",
    "There are slight deviations between the outputs of my model and that of the original GPT-2 model. As shown below, this appears to be primarily due to the original GPT-2 model using a slightly different variant of GeLU from both me and PyTorch."
   ]
  },
  {
   "cell_type": "code",
   "execution_count": 4,
   "metadata": {},
   "outputs": [],
   "source": [
    "import torch as t\n",
    "import sys\n",
    "import os\n",
    "notebook_path = os.path.abspath('')\n",
    "project_root = os.path.join(notebook_path, '..')\n",
    "sys.path.append(project_root)"
   ]
  },
  {
   "cell_type": "markdown",
   "metadata": {},
   "source": [
    "## Comparing GPT2 transformer block (and components) with my implementation of a GPT2 transformer block"
   ]
  },
  {
   "cell_type": "code",
   "execution_count": 102,
   "metadata": {},
   "outputs": [],
   "source": [
    "from transformers import GPT2Tokenizer, GPT2Model\n",
    "tokenizer = GPT2Tokenizer.from_pretrained('gpt2')\n",
    "model = GPT2Model.from_pretrained('gpt2')"
   ]
  },
  {
   "cell_type": "code",
   "execution_count": 103,
   "metadata": {},
   "outputs": [
    {
     "name": "stdout",
     "output_type": "stream",
     "text": [
      "GPT2Block(\n",
      "  (ln_1): LayerNorm((768,), eps=1e-05, elementwise_affine=True)\n",
      "  (attn): GPT2Attention(\n",
      "    (c_attn): Conv1D()\n",
      "    (c_proj): Conv1D()\n",
      "    (attn_dropout): Dropout(p=0.1, inplace=False)\n",
      "    (resid_dropout): Dropout(p=0.1, inplace=False)\n",
      "  )\n",
      "  (ln_2): LayerNorm((768,), eps=1e-05, elementwise_affine=True)\n",
      "  (mlp): GPT2MLP(\n",
      "    (c_fc): Conv1D()\n",
      "    (c_proj): Conv1D()\n",
      "    (act): NewGELUActivation()\n",
      "    (dropout): Dropout(p=0.1, inplace=False)\n",
      "  )\n",
      ")\n",
      "TransformerDecoderBlock(\n",
      "  (norm_layer1): LayerNorm()\n",
      "  (norm_layer2): LayerNorm()\n",
      "  (mha_block): MultiheadAttentionBlock(\n",
      "    (linear_q): Linear()\n",
      "    (linear_k): Linear()\n",
      "    (linear_v): Linear()\n",
      "    (linear_o): Linear()\n",
      "  )\n",
      "  (mlp_block): MLPBlock(\n",
      "    (linear1): Linear()\n",
      "    (linear2): Linear()\n",
      "  )\n",
      ")\n"
     ]
    }
   ],
   "source": [
    "import torch as t\n",
    "from src.blocks import TransformerDecoderBlock\n",
    "\n",
    "gpt2_block = model.h[0]\n",
    "my_block = TransformerDecoderBlock(768, 12, 3072, 'mlpblock', 'gelu', 'layer_norm')\n",
    "\n",
    "my_block.norm_layer1.weight, my_block.norm_layer1.bias = gpt2_block.ln_1.weight, gpt2_block.ln_1.bias\n",
    "my_block.norm_layer2.weight, my_block.norm_layer2.bias = gpt2_block.ln_2.weight, gpt2_block.ln_2.bias\n",
    "\n",
    "my_block.mlp_block.linear1.weight, my_block.mlp_block.linear1.bias = t.nn.Parameter(gpt2_block.mlp.c_fc.weight.T), gpt2_block.mlp.c_fc.bias\n",
    "my_block.mlp_block.linear2.weight, my_block.mlp_block.linear2.bias = t.nn.Parameter(gpt2_block.mlp.c_proj.weight.T), gpt2_block.mlp.c_proj.bias\n",
    "\n",
    "(wq,wk,wv) = t.chunk(gpt2_block.attn.c_attn.weight.T, 3, dim=0)\n",
    "(bq,bk,bv) = t.chunk(gpt2_block.attn.c_attn.bias, 3, dim=0)\n",
    "\n",
    "my_block.mha_block.linear_q.weight, my_block.mha_block.linear_q.bias = t.nn.Parameter(wq), t.nn.Parameter(bq)\n",
    "my_block.mha_block.linear_k.weight, my_block.mha_block.linear_k.bias = t.nn.Parameter(wk), t.nn.Parameter(bk)\n",
    "my_block.mha_block.linear_v.weight, my_block.mha_block.linear_v.bias = t.nn.Parameter(wv), t.nn.Parameter(bv)\n",
    "my_block.mha_block.linear_o.weight, my_block.mha_block.linear_o.bias = t.nn.Parameter(gpt2_block.attn.c_proj.weight.T), gpt2_block.attn.c_proj.bias\n",
    "\n",
    "my_block.eval()\n",
    "gpt2_block.eval()\n",
    "\n",
    "print(gpt2_block)\n",
    "print(my_block)"
   ]
  },
  {
   "cell_type": "markdown",
   "metadata": {},
   "source": [
    "#### Comparing transformer blocks"
   ]
  },
  {
   "cell_type": "code",
   "execution_count": 104,
   "metadata": {},
   "outputs": [
    {
     "name": "stdout",
     "output_type": "stream",
     "text": [
      "GPT2 Transformer block\n",
      "tensor([[[ 11.9301,  -5.1084,   4.8721,  ...,   3.5804,   6.0616,   2.0907],\n",
      "         [ -2.5539,  -2.2660, -14.4894,  ...,  -3.6857,   2.9383,  13.2351],\n",
      "         [  7.7575,   2.9038,   2.2469,  ...,   3.5669,   1.8584,  -2.6753],\n",
      "         [ 21.1863,   5.4953,  -1.4163,  ...,  16.6159,  12.6175,   5.8836],\n",
      "         [  8.3480,  10.5500,  -3.7784,  ...,   7.5318,   3.0071,   2.8194]]],\n",
      "       grad_fn=<AddBackward0>)\n",
      "My transformer block\n",
      "tensor([[[ 11.9307,  -5.1094,   4.8729,  ...,   3.5806,   6.0613,   2.0899],\n",
      "         [ -2.5542,  -2.2671, -14.4904,  ...,  -3.6855,   2.9391,  13.2340],\n",
      "         [  7.7590,   2.9039,   2.2472,  ...,   3.5682,   1.8589,  -2.6756],\n",
      "         [ 21.1843,   5.4948,  -1.4154,  ...,  16.6158,  12.6155,   5.8824],\n",
      "         [  8.3466,  10.5499,  -3.7755,  ...,   7.5308,   3.0064,   2.8195]]],\n",
      "       grad_fn=<AddBackward0>)\n"
     ]
    }
   ],
   "source": [
    "x = t.randn((1,5,768))\n",
    "\n",
    "seq_len = x.shape[-2]\n",
    "att_mask = t.where(t.arange(seq_len).unsqueeze(1) < t.arange(seq_len), -t.inf, 0)\n",
    "\n",
    "gpt2_block.eval()\n",
    "my_block.eval()\n",
    "\n",
    "print(\"GPT2 Transformer block\")\n",
    "print(gpt2_block(x)[0])\n",
    "print(\"My transformer block\")\n",
    "print(my_block(x))"
   ]
  },
  {
   "cell_type": "markdown",
   "metadata": {},
   "source": [
    "#### Comparing normalization"
   ]
  },
  {
   "cell_type": "code",
   "execution_count": 108,
   "metadata": {},
   "outputs": [
    {
     "name": "stdout",
     "output_type": "stream",
     "text": [
      "Normalization\n",
      "GPT2 Layer Norm 1\n",
      "tensor([[[ 0.0605,  0.1313,  0.2511,  ..., -0.0163, -0.2598, -0.0323],\n",
      "         [ 0.0569, -0.3122,  0.2620,  ...,  0.0307, -0.0726, -0.3277],\n",
      "         [ 0.0651,  0.0122, -0.0984,  ...,  0.2342, -0.0984, -0.0732],\n",
      "         [-0.2922,  0.1620, -0.2315,  ...,  0.0681,  0.3746,  0.0105],\n",
      "         [ 0.3607,  0.2928, -0.1951,  ...,  0.0104, -0.1599,  0.0040]]],\n",
      "       grad_fn=<NativeLayerNormBackward0>)\n",
      "My Layer Norm 1\n",
      "tensor([[[ 0.0605,  0.1313,  0.2511,  ..., -0.0163, -0.2598, -0.0323],\n",
      "         [ 0.0569, -0.3122,  0.2620,  ...,  0.0307, -0.0726, -0.3277],\n",
      "         [ 0.0651,  0.0122, -0.0984,  ...,  0.2342, -0.0984, -0.0732],\n",
      "         [-0.2922,  0.1620, -0.2315,  ...,  0.0681,  0.3746,  0.0105],\n",
      "         [ 0.3607,  0.2928, -0.1951,  ...,  0.0104, -0.1599,  0.0040]]],\n",
      "       grad_fn=<AddBackward0>)\n",
      "GPT2 Layer Norm 2\n",
      "tensor([[[ 0.0801,  0.1524,  0.4288,  ..., -0.0530, -1.7230, -0.0954],\n",
      "         [ 0.0780, -0.3579,  0.4435,  ...,  0.2663, -0.4050, -1.7670],\n",
      "         [ 0.0828,  0.0154, -0.0417,  ...,  1.6515, -0.5866, -0.3268],\n",
      "         [-0.1268,  0.1878, -0.2209,  ...,  0.5213,  2.7444,  0.1468],\n",
      "         [ 0.2563,  0.3382, -0.1719,  ...,  0.1287, -1.0200,  0.1099]]],\n",
      "       grad_fn=<NativeLayerNormBackward0>)\n",
      "My Layer Norm 2\n",
      "tensor([[[ 0.0801,  0.1524,  0.4288,  ..., -0.0530, -1.7230, -0.0954],\n",
      "         [ 0.0780, -0.3579,  0.4435,  ...,  0.2663, -0.4050, -1.7670],\n",
      "         [ 0.0828,  0.0154, -0.0417,  ...,  1.6515, -0.5866, -0.3268],\n",
      "         [-0.1268,  0.1878, -0.2209,  ...,  0.5213,  2.7444,  0.1468],\n",
      "         [ 0.2563,  0.3382, -0.1719,  ...,  0.1287, -1.0200,  0.1099]]],\n",
      "       grad_fn=<AddBackward0>)\n",
      "True\n",
      "True\n"
     ]
    }
   ],
   "source": [
    "print(\"Normalization\")\n",
    "\n",
    "print(\"GPT2 Layer Norm 1\")\n",
    "print(gpt2_block.ln_1(x))\n",
    "print(\"My Layer Norm 1\")\n",
    "print(my_block.norm_layer1(x))\n",
    "\n",
    "print(\"GPT2 Layer Norm 2\")\n",
    "print(gpt2_block.ln_2(x))\n",
    "print(\"My Layer Norm 2\")\n",
    "print(my_block.norm_layer2(x))\n",
    "\n",
    "print(t.allclose(my_block.norm_layer1(x), gpt2_block.ln_1(x), atol=1e-7))\n",
    "print(t.allclose(my_block.norm_layer2(x), gpt2_block.ln_2(x), atol=1e-7))\n"
   ]
  },
  {
   "cell_type": "markdown",
   "metadata": {},
   "source": [
    "#### Comparing attention"
   ]
  },
  {
   "cell_type": "code",
   "execution_count": 111,
   "metadata": {},
   "outputs": [
    {
     "name": "stdout",
     "output_type": "stream",
     "text": [
      "Multi-head attention\n",
      "GPT2 Attention\n",
      "tensor([[[ 18.9150, -10.0025,   5.9849,  ...,  -1.2226,   0.2665,  -0.5117],\n",
      "         [-18.4654,  -4.1438,  -4.3223,  ...,  -1.0013,  -0.2782,  -0.0262],\n",
      "         [ -9.5618,   1.7456,  10.6257,  ...,  -1.2053,   0.2052,  -0.1198],\n",
      "         [ 12.0544,  -2.0354,   1.9754,  ...,   0.0529,   1.7595,  -0.7167],\n",
      "         [  0.0726,   0.9221,   7.5586,  ...,  -0.5898,   0.7325,   0.6961]]],\n",
      "       grad_fn=<ViewBackward0>)\n",
      "My attention\n",
      "tensor([[[ 18.9150, -10.0025,   5.9849,  ...,  -1.2226,   0.2665,  -0.5117],\n",
      "         [-18.4654,  -4.1438,  -4.3223,  ...,  -1.0013,  -0.2782,  -0.0261],\n",
      "         [ -9.5619,   1.7456,  10.6257,  ...,  -1.2053,   0.2052,  -0.1198],\n",
      "         [ 12.0544,  -2.0354,   1.9754,  ...,   0.0529,   1.7595,  -0.7167],\n",
      "         [  0.0726,   0.9221,   7.5586,  ...,  -0.5898,   0.7325,   0.6961]]],\n",
      "       grad_fn=<AsStridedBackward0>)\n",
      "True\n"
     ]
    }
   ],
   "source": [
    "print(\"Multi-head attention\")\n",
    "print(\"GPT2 Attention\")\n",
    "print(gpt2_block.attn(x)[0])\n",
    "print(\"My attention\")\n",
    "print(my_block.mha_block(x, attention_mask=att_mask))\n",
    "\n",
    "\n",
    "print(t.allclose(my_block.mha_block(x, attention_mask=att_mask), gpt2_block.attn(x)[0], atol=1e-3))"
   ]
  },
  {
   "cell_type": "markdown",
   "metadata": {},
   "source": [
    "#### Comparing MLP"
   ]
  },
  {
   "cell_type": "code",
   "execution_count": 112,
   "metadata": {},
   "outputs": [
    {
     "name": "stdout",
     "output_type": "stream",
     "text": [
      "MLP\n",
      "GPT2 MLP\n",
      "tensor([[[ 18.8685,  -6.8093,  -0.5403,  ...,   9.7797,   6.4821,   5.9411],\n",
      "         [ -7.1819,   1.2927, -29.0145,  ...,  -2.1262,   7.9047,  32.0431],\n",
      "         [ 14.4651,   3.1689,  -3.1675,  ...,  10.2508,   7.9537,  10.2513],\n",
      "         [ 30.5291,  14.8931,  -5.8086,  ...,  38.0323,  22.8713,  18.3896],\n",
      "         [ -8.8284,  14.1699,   8.9831,  ...,   5.9502,  -6.2154,   9.4560]]],\n",
      "       grad_fn=<ViewBackward0>)\n",
      "My MLP\n",
      "tensor([[[ 18.8687,  -6.8084,  -0.5406,  ...,   9.7786,   6.4831,   5.9401],\n",
      "         [ -7.1822,   1.2930, -29.0140,  ...,  -2.1249,   7.9042,  32.0436],\n",
      "         [ 14.4647,   3.1703,  -3.1672,  ...,  10.2521,   7.9546,  10.2511],\n",
      "         [ 30.5294,  14.8922,  -5.8092,  ...,  38.0312,  22.8707,  18.3888],\n",
      "         [ -8.8288,  14.1707,   8.9832,  ...,   5.9493,  -6.2142,   9.4560]]],\n",
      "       grad_fn=<AsStridedBackward0>)\n",
      "True\n"
     ]
    }
   ],
   "source": [
    "print(\"MLP\")\n",
    "print(\"GPT2 MLP\")\n",
    "print(gpt2_block.mlp(x))\n",
    "print(\"My MLP\")\n",
    "print(my_block.mlp_block(x))\n",
    "\n",
    "print(t.allclose(my_block.mlp_block(x), gpt2_block.mlp(x), atol=1e-2))"
   ]
  },
  {
   "cell_type": "markdown",
   "metadata": {},
   "source": [
    "#### Comparing GeLU"
   ]
  },
  {
   "cell_type": "code",
   "execution_count": 113,
   "metadata": {},
   "outputs": [
    {
     "name": "stdout",
     "output_type": "stream",
     "text": [
      "GeLU\n",
      "GPT2 GeLU\n",
      "tensor([ 0.4378,  0.7747,  0.0714, -0.1113,  0.3848,  0.6462,  0.0711, -0.1700,\n",
      "        -0.1659, -0.1658])\n",
      "My GeLU\n",
      "tensor([ 0.4378,  0.7749,  0.0714, -0.1113,  0.3848,  0.6463,  0.0711, -0.1699,\n",
      "        -0.1658, -0.1657])\n",
      "Torch GeLU\n",
      "tensor([ 0.4378,  0.7749,  0.0714, -0.1113,  0.3848,  0.6463,  0.0711, -0.1699,\n",
      "        -0.1658, -0.1657])\n"
     ]
    }
   ],
   "source": [
    "from src.activations import gelu\n",
    "from torch.nn.functional import gelu as torch_gelu\n",
    "\n",
    "print(\"GeLU\")\n",
    "x = t.randn((10,))\n",
    "\n",
    "print(\"GPT2 GeLU\")\n",
    "print(gpt2_block.mlp.act(x))\n",
    "print(\"My GeLU\")\n",
    "print(gelu(x))\n",
    "print(\"Torch GeLU\")\n",
    "print(torch_gelu(x))\n"
   ]
  },
  {
   "cell_type": "markdown",
   "metadata": {},
   "source": [
    "#### Comparing MLP using GPT2 GeLU"
   ]
  },
  {
   "cell_type": "code",
   "execution_count": 114,
   "metadata": {},
   "outputs": [
    {
     "name": "stdout",
     "output_type": "stream",
     "text": [
      "My MLP with their GELU\n",
      "GPT2 MLP Block\n",
      "tensor([[[ 23.0493, -16.3688, -22.0839,  ...,   0.1566,   4.3208,  -6.6208],\n",
      "         [-17.7008,   2.2056,  11.8246,  ...,  17.5515,  13.1587,  28.4457],\n",
      "         [-13.3058,   2.7366, -11.2752,  ...,   1.7804,  18.1479,  -6.7358],\n",
      "         ...,\n",
      "         [  6.6704,  -3.8881,   0.7262,  ...,  -3.4565,  10.2489,   0.4162],\n",
      "         [  7.2146, -10.6892,  -4.7511,  ...,   0.7938,  11.3679,  -6.8258],\n",
      "         [  2.4927,  -8.1006, -18.8348,  ...,   8.8312,  13.5325,  -9.2248]]],\n",
      "       grad_fn=<ViewBackward0>)\n",
      "My MLP Block with GPT2 GeLU\n",
      "tensor([[[ 23.0493, -16.3688, -22.0839,  ...,   0.1566,   4.3208,  -6.6208],\n",
      "         [-17.7008,   2.2056,  11.8246,  ...,  17.5515,  13.1587,  28.4457],\n",
      "         [-13.3058,   2.7366, -11.2752,  ...,   1.7804,  18.1479,  -6.7358],\n",
      "         ...,\n",
      "         [  6.6704,  -3.8881,   0.7262,  ...,  -3.4565,  10.2489,   0.4162],\n",
      "         [  7.2146, -10.6892,  -4.7511,  ...,   0.7938,  11.3679,  -6.8258],\n",
      "         [  2.4927,  -8.1006, -18.8348,  ...,   8.8312,  13.5325,  -9.2248]]],\n",
      "       grad_fn=<AsStridedBackward0>)\n",
      "True\n",
      "The main difference between our models is in the MLP block, because OpenAI used a slightly different version of GeLU.\n"
     ]
    }
   ],
   "source": [
    "print(\"My MLP with their GELU\")\n",
    "x = t.randn((1, 10, 768))\n",
    "\n",
    "print(\"GPT2 MLP Block\")\n",
    "gpt2_mlp = gpt2_block.mlp(x)\n",
    "print(gpt2_mlp)\n",
    "\n",
    "print(\"My MLP Block with GPT2 GeLU\")\n",
    "my_mlp = my_block.mlp_block.linear2(gpt2_block.mlp.act(my_block.mlp_block.linear1(x)))\n",
    "print(my_mlp)\n",
    "\n",
    "print(t.allclose(gpt2_mlp, my_mlp, atol=1e-4))\n",
    "\n",
    "print(\"The main difference between our models is in the MLP block, because OpenAI used a slightly different version of GeLU.\")"
   ]
  },
  {
   "cell_type": "markdown",
   "metadata": {},
   "source": [
    "## Comparing GPT2 embedding with my implementation of the GPT2 embedding"
   ]
  },
  {
   "cell_type": "code",
   "execution_count": 26,
   "metadata": {},
   "outputs": [
    {
     "data": {
      "text/plain": [
       "tensor([[1212,  318,  257, 1332, 6827,   13]])"
      ]
     },
     "execution_count": 26,
     "metadata": {},
     "output_type": "execute_result"
    }
   ],
   "source": [
    "from src.models import GPT2SmallModel\n",
    "my_model = GPT2SmallModel()\n",
    "\n",
    "from transformers import GPT2Tokenizer, GPT2Model\n",
    "tokenizer = GPT2Tokenizer.from_pretrained('gpt2')\n",
    "model = GPT2Model.from_pretrained('gpt2')\n",
    "\n",
    "my_model.embedding_layer.position_embedding_layer.weight = model.wpe.weight\n",
    "my_model.embedding_layer.token_embedding_layer.weight = model.wte.weight\n",
    "\n",
    "text = \"This is a test sentence.\"\n",
    "tokens = t.tensor(tokenizer(text)['input_ids']).unsqueeze(0)\n",
    "tokens"
   ]
  },
  {
   "cell_type": "code",
   "execution_count": 30,
   "metadata": {},
   "outputs": [
    {
     "name": "stdout",
     "output_type": "stream",
     "text": [
      "Embedding outputs\n",
      "GPT2 embedding output\n",
      "tensor([[[ 0.0065, -0.2930,  0.0762,  ...,  0.0184, -0.0275,  0.1638],\n",
      "         [ 0.0142, -0.0437, -0.0393,  ...,  0.1487, -0.0278, -0.0255],\n",
      "         [-0.0464, -0.0791,  0.1016,  ...,  0.0623,  0.0928, -0.0598],\n",
      "         [-0.0580,  0.0095,  0.2207,  ..., -0.0635,  0.0760, -0.0543],\n",
      "         [-0.0888, -0.0326,  0.1666,  ..., -0.2539, -0.0370, -0.2046],\n",
      "         [ 0.0562, -0.0452,  0.1596,  ..., -0.0676,  0.0567,  0.0888]]],\n",
      "       grad_fn=<AddBackward0>)\n",
      "My embedding output\n",
      "tensor([[[ 0.0065, -0.2930,  0.0762,  ...,  0.0184, -0.0275,  0.1638],\n",
      "         [ 0.0142, -0.0437, -0.0393,  ...,  0.1487, -0.0278, -0.0255],\n",
      "         [-0.0464, -0.0791,  0.1016,  ...,  0.0623,  0.0928, -0.0598],\n",
      "         [-0.0580,  0.0095,  0.2207,  ..., -0.0635,  0.0760, -0.0543],\n",
      "         [-0.0888, -0.0326,  0.1666,  ..., -0.2539, -0.0370, -0.2046],\n",
      "         [ 0.0562, -0.0452,  0.1596,  ..., -0.0676,  0.0567,  0.0888]]],\n",
      "       grad_fn=<AddBackward0>)\n"
     ]
    }
   ],
   "source": [
    "print(\"Embedding outputs\")\n",
    "print(\"GPT2 embedding output\")\n",
    "print(model.wte(tokens) + model.wpe(t.arange(tokens.shape[-1])))\n",
    "print(\"My embedding output\")\n",
    "print(my_model.embedding_layer(tokens))"
   ]
  },
  {
   "cell_type": "markdown",
   "metadata": {},
   "source": [
    "## Comparing GPT2 model vs. my implementation of the GPT2 model"
   ]
  },
  {
   "cell_type": "code",
   "execution_count": 5,
   "metadata": {},
   "outputs": [
    {
     "data": {
      "text/plain": [
       "tensor([[1212,  318,  257, 1332, 6827,   13]])"
      ]
     },
     "execution_count": 5,
     "metadata": {},
     "output_type": "execute_result"
    }
   ],
   "source": [
    "from src.models import GPT2SmallModel\n",
    "my_model = GPT2SmallModel()\n",
    "my_model.eval()\n",
    "\n",
    "# Importing GPT2LMHeadModel instead of GPT2Model because it applies the final unembed to get logits\n",
    "from transformers import AutoTokenizer, GPT2LMHeadModel\n",
    "tokenizer = AutoTokenizer.from_pretrained(\"openai-community/gpt2\")\n",
    "gpt2_model = GPT2LMHeadModel.from_pretrained(\"openai-community/gpt2\")\n",
    "gpt2_model.eval()\n",
    "\n",
    "text = \"This is a test sentence.\"\n",
    "tokens = t.tensor(tokenizer(text)['input_ids']).unsqueeze(0)\n",
    "tokens"
   ]
  },
  {
   "cell_type": "code",
   "execution_count": 6,
   "metadata": {},
   "outputs": [],
   "source": [
    "# Copying over weights\n",
    "my_model.embedding_layer.position_embedding_layer.weight = gpt2_model.transformer.wpe.weight\n",
    "my_model.embedding_layer.token_embedding_layer.weight = gpt2_model.transformer.wte.weight\n",
    "\n",
    "my_model.final_ln.weight, my_model.final_ln.bias = gpt2_model.transformer.ln_f.weight, gpt2_model.transformer.ln_f.bias\n",
    "\n",
    "my_model_block_list = my_model.transformer_blocks\n",
    "gpt2_model_block_list = gpt2_model.transformer.h\n",
    "\n",
    "for my_block, gpt2_block in zip(my_model_block_list, gpt2_model_block_list):\n",
    "    my_block.norm_layer1.weight, my_block.norm_layer1.bias = gpt2_block.ln_1.weight, gpt2_block.ln_1.bias\n",
    "    my_block.norm_layer2.weight, my_block.norm_layer2.bias = gpt2_block.ln_2.weight, gpt2_block.ln_2.bias\n",
    "\n",
    "    my_block.mlp_block.linear1.weight, my_block.mlp_block.linear1.bias = t.nn.Parameter(gpt2_block.mlp.c_fc.weight.T), gpt2_block.mlp.c_fc.bias\n",
    "    my_block.mlp_block.linear2.weight, my_block.mlp_block.linear2.bias = t.nn.Parameter(gpt2_block.mlp.c_proj.weight.T), gpt2_block.mlp.c_proj.bias\n",
    "\n",
    "    (wq,wk,wv) = t.chunk(gpt2_block.attn.c_attn.weight.T, 3, dim=0)\n",
    "    (bq,bk,bv) = t.chunk(gpt2_block.attn.c_attn.bias, 3, dim=0)\n",
    "\n",
    "    my_block.mha_block.linear_q.weight, my_block.mha_block.linear_q.bias = t.nn.Parameter(wq), t.nn.Parameter(bq)\n",
    "    my_block.mha_block.linear_k.weight, my_block.mha_block.linear_k.bias = t.nn.Parameter(wk), t.nn.Parameter(bk)\n",
    "    my_block.mha_block.linear_v.weight, my_block.mha_block.linear_v.bias = t.nn.Parameter(wv), t.nn.Parameter(bv)\n",
    "    my_block.mha_block.linear_o.weight, my_block.mha_block.linear_o.bias = t.nn.Parameter(gpt2_block.attn.c_proj.weight.T), gpt2_block.attn.c_proj.bias\n"
   ]
  },
  {
   "cell_type": "markdown",
   "metadata": {},
   "source": [
    "### Logit outputs"
   ]
  },
  {
   "cell_type": "code",
   "execution_count": 89,
   "metadata": {},
   "outputs": [
    {
     "name": "stdout",
     "output_type": "stream",
     "text": [
      "Model logits\n",
      "GPT2 model logits\n",
      "tensor([[[ -35.8890,  -35.2049,  -39.1336,  ...,  -42.4869,  -41.8197,\n",
      "           -36.0383],\n",
      "         [-107.7291, -108.0175, -113.2967,  ..., -116.4645, -115.7443,\n",
      "          -110.8654],\n",
      "         [-111.7507, -111.5704, -114.5443,  ..., -120.7242, -117.1756,\n",
      "          -112.3996],\n",
      "         [ -86.1846,  -88.5057,  -94.3530,  ..., -101.3573,  -98.6974,\n",
      "           -91.1616],\n",
      "         [-106.4531, -108.7300, -115.4155,  ..., -119.6631, -119.1774,\n",
      "          -110.7877],\n",
      "         [-146.7139, -145.9828, -146.9487,  ..., -155.2113, -158.0557,\n",
      "          -139.4035]]], grad_fn=<UnsafeViewBackward0>)\n",
      "My model logits\n",
      "tensor([[[ -35.8260,  -35.1460,  -39.0735,  ...,  -42.4222,  -41.7547,\n",
      "           -35.9785],\n",
      "         [-107.7155, -108.0055, -113.2770,  ..., -116.4519, -115.7324,\n",
      "          -110.8482],\n",
      "         [-111.7447, -111.5662, -114.5354,  ..., -120.7213, -117.1712,\n",
      "          -112.3930],\n",
      "         [ -86.1794,  -88.5035,  -94.3420,  ..., -101.3490,  -98.6924,\n",
      "           -91.1553],\n",
      "         [-106.4438, -108.7262, -115.3992,  ..., -119.6509, -119.1691,\n",
      "          -110.7780],\n",
      "         [-146.6986, -145.9709, -146.9278,  ..., -155.1906, -158.0314,\n",
      "          -139.3904]]], grad_fn=<ViewBackward0>)\n",
      "True\n"
     ]
    }
   ],
   "source": [
    "print(\"Model logits\")\n",
    "print(\"GPT2 model logits\")\n",
    "gpt2_logits = gpt2_model(**tokenizer(text, return_tensors='pt')).logits\n",
    "print(gpt2_logits)\n",
    "print(\"My model logits\")\n",
    "my_logits = my_model(tokens)\n",
    "print(my_logits)\n",
    "\n",
    "print(t.allclose(gpt2_logits, my_logits, atol=1e-1))"
   ]
  },
  {
   "cell_type": "markdown",
   "metadata": {},
   "source": [
    "### Argmax sampling"
   ]
  },
  {
   "cell_type": "code",
   "execution_count": 42,
   "metadata": {},
   "outputs": [
    {
     "data": {
      "text/plain": [
       "{'input_ids': tensor([[  464, 13601,  4196,    11,   416,  5564,  1940, 41471,    13,   220,\n",
       "           198, 26302,   379,  1755,    11]]), 'attention_mask': tensor([[1, 1, 1, 1, 1, 1, 1, 1, 1, 1, 1, 1, 1, 1, 1]])}"
      ]
     },
     "execution_count": 42,
     "metadata": {},
     "output_type": "execute_result"
    }
   ],
   "source": [
    "text = \"The Large Apple, by Roald Dahl. \\nLate at night,\"\n",
    "tokens_gpt2 = tokenizer(text, return_tensors='pt')\n",
    "tokens_curr = tokenizer(text, return_tensors='pt')['input_ids']\n",
    "\n",
    "tokens_gpt2"
   ]
  },
  {
   "cell_type": "code",
   "execution_count": 43,
   "metadata": {},
   "outputs": [],
   "source": [
    "for i in range(10):\n",
    "    gpt2_next_token = gpt2_model(**tokens_gpt2).logits[0][-1].argmax()\n",
    "    my_model_next_token = my_model(tokens_curr)[0][-1].argmax()\n",
    "\n",
    "    tokens_gpt2['input_ids'] = t.cat([tokens_gpt2['input_ids'], gpt2_next_token.reshape((1,1))], dim=1)\n",
    "    tokens_gpt2['attention_mask'] = t.cat([tokens_gpt2['attention_mask'], t.tensor(1).reshape((1,1))], dim=1)\n",
    "    tokens_curr = t.cat([tokens_curr, my_model_next_token.reshape((1,1))], dim=1)"
   ]
  },
  {
   "cell_type": "code",
   "execution_count": 47,
   "metadata": {},
   "outputs": [
    {
     "name": "stdout",
     "output_type": "stream",
     "text": [
      "GPT2 argmax output\n",
      "The Large Apple, by Roald Dahl. \n",
      "Late at night, I was sitting in the living room of my home\n",
      "\n",
      "My implementation output\n",
      "The Large Apple, by Roald Dahl. \n",
      "Late at night, I was sitting in the living room of my home\n"
     ]
    }
   ],
   "source": [
    "print(\"GPT2 argmax output\")\n",
    "print(''.join(tokenizer.convert_ids_to_tokens(tokens_gpt2['input_ids'][0])).replace('Ġ', ' ').replace('Ċ', '\\n'))\n",
    "print()\n",
    "print(\"My implementation output\")\n",
    "print(''.join(tokenizer.convert_ids_to_tokens(tokens_curr[0])).replace('Ġ', ' ').replace('Ċ', '\\n'))"
   ]
  },
  {
   "cell_type": "markdown",
   "metadata": {},
   "source": [
    "## Normal sampling from my version of the GPT-2 model"
   ]
  },
  {
   "cell_type": "code",
   "execution_count": 95,
   "metadata": {},
   "outputs": [
    {
     "data": {
      "text/plain": [
       "tensor([[  818,   257, 14702,  4917,    11, 11444,  5071,   257, 27638,   286,\n",
       "         28000, 19942,  2877,   287,   257,  6569,    11,  4271, 31286,  1850,\n",
       "         19272,    11,   287,   262,   843,   274, 21124,    13,  3412,   517,\n",
       "          6452,   284,   262,  4837,   373,   262,  1109,   326,   262, 28000,\n",
       "         19942,  5158,  2818,  3594,    13]])"
      ]
     },
     "execution_count": 95,
     "metadata": {},
     "output_type": "execute_result"
    }
   ],
   "source": [
    "# https://openai.com/index/better-language-models/\n",
    "text = \"In a shocking finding, scientist discovered a herd of unicorns living in a remote, previously unexplored valley, in the Andes Mountains. Even more surprising to the researchers was the fact that the unicorns spoke perfect English.\"\n",
    "tokens = tokenizer(text, return_tensors='pt')['input_ids']\n",
    "\n",
    "tokens"
   ]
  },
  {
   "cell_type": "code",
   "execution_count": 96,
   "metadata": {},
   "outputs": [],
   "source": [
    "for i in range(100):\n",
    "    my_model_next_token = t.multinomial(t.softmax(my_model(tokens)[0][-1], dim=0), 1)\n",
    "\n",
    "    tokens = t.cat([tokens, my_model_next_token.unsqueeze(0)], dim=1)"
   ]
  },
  {
   "cell_type": "code",
   "execution_count": 88,
   "metadata": {},
   "outputs": [
    {
     "name": "stdout",
     "output_type": "stream",
     "text": [
      "GPT2 completion of unicorn prompt\n",
      "In a shocking finding, scientist discovered a herd of unicorns living in a remote, previously unexplored valley, in the Andes Mountains. Even more surprising to the researchers was the fact that the unicorns spoke perfect English. The research suggests that intelligence lies at the heart of human culture for which there is many monuments of old pointers to wisdom or favourable things. \"Good eyes for learning things to know\", says Krishnamurti Mehta of Harvard's water and food sciences department, admiring the unusual sight and offered\n"
     ]
    }
   ],
   "source": [
    "print(\"GPT2 completion of unicorn prompt\")\n",
    "print(''.join(tokenizer.convert_ids_to_tokens(tokens[0])).replace('Ġ', ' ').replace('Ċ', '\\n'))"
   ]
  }
 ],
 "metadata": {
  "kernelspec": {
   "display_name": "gen_dev",
   "language": "python",
   "name": "gen_dev"
  },
  "language_info": {
   "codemirror_mode": {
    "name": "ipython",
    "version": 3
   },
   "file_extension": ".py",
   "mimetype": "text/x-python",
   "name": "python",
   "nbconvert_exporter": "python",
   "pygments_lexer": "ipython3",
   "version": "3.7.2"
  },
  "orig_nbformat": 4,
  "vscode": {
   "interpreter": {
    "hash": "4e1a9d7885dea6998a7a132fd9b87478e1e0c0674c7c69db4242a360dd50e282"
   }
  }
 },
 "nbformat": 4,
 "nbformat_minor": 2
}
