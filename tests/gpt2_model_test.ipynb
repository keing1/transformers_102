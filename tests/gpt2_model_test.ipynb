{
 "cells": [
  {
   "cell_type": "markdown",
   "metadata": {},
   "source": [
    "In this notebook, I validate my implementation of transformer components and GPT-2 small by:\n",
    "- Comparing the behavior of a GPT-2 transformer block with my own implementation of a GPT-2 transformer block\n",
    "- Comparing the behavior of the GPT-2 embedding components with my own implementation of the GPT-2 embedding components\n",
    "- Comparing the behavior of the full GPT-2 model with my own implementation of the full GPT-2 model\n",
    "- Sampling from my implementation of the full GPT-2 model\n",
    "\n",
    "There are slight deviations between the outputs of my model and that of the original GPT-2 model. As shown below, this appears to be primarily due to the original GPT-2 model using a slightly different variant of GeLU from both me and PyTorch."
   ]
  },
  {
   "cell_type": "code",
   "execution_count": 1,
   "metadata": {},
   "outputs": [],
   "source": [
    "import torch as t\n",
    "import sys\n",
    "import os\n",
    "notebook_path = os.path.abspath('')\n",
    "project_root = os.path.join(notebook_path, '..')\n",
    "sys.path.append(project_root)"
   ]
  },
  {
   "cell_type": "markdown",
   "metadata": {},
   "source": [
    "## Comparing GPT2 transformer block (and components) with my implementation of a GPT2 transformer block"
   ]
  },
  {
   "cell_type": "code",
   "execution_count": 2,
   "metadata": {},
   "outputs": [],
   "source": [
    "from transformers import GPT2Tokenizer, GPT2Model\n",
    "tokenizer = GPT2Tokenizer.from_pretrained('gpt2')\n",
    "model = GPT2Model.from_pretrained('gpt2')"
   ]
  },
  {
   "cell_type": "code",
   "execution_count": 3,
   "metadata": {},
   "outputs": [
    {
     "name": "stdout",
     "output_type": "stream",
     "text": [
      "GPT2Block(\n",
      "  (ln_1): LayerNorm((768,), eps=1e-05, elementwise_affine=True)\n",
      "  (attn): GPT2Attention(\n",
      "    (c_attn): Conv1D()\n",
      "    (c_proj): Conv1D()\n",
      "    (attn_dropout): Dropout(p=0.1, inplace=False)\n",
      "    (resid_dropout): Dropout(p=0.1, inplace=False)\n",
      "  )\n",
      "  (ln_2): LayerNorm((768,), eps=1e-05, elementwise_affine=True)\n",
      "  (mlp): GPT2MLP(\n",
      "    (c_fc): Conv1D()\n",
      "    (c_proj): Conv1D()\n",
      "    (act): NewGELUActivation()\n",
      "    (dropout): Dropout(p=0.1, inplace=False)\n",
      "  )\n",
      ")\n",
      "TransformerDecoderBlock(\n",
      "  (norm_layer1): LayerNorm()\n",
      "  (norm_layer2): LayerNorm()\n",
      "  (mha_block): MultiheadAttentionBlock(\n",
      "    (linear_q): Linear()\n",
      "    (linear_k): Linear()\n",
      "    (linear_v): Linear()\n",
      "    (linear_o): Linear()\n",
      "    (dropout_layer_1): Dropout()\n",
      "    (dropout_layer_2): Dropout()\n",
      "  )\n",
      "  (mlp_block): MLPBlock(\n",
      "    (linear1): Linear()\n",
      "    (linear2): Linear()\n",
      "    (dropout_layer): Dropout()\n",
      "  )\n",
      ")\n"
     ]
    }
   ],
   "source": [
    "import torch as t\n",
    "from src.blocks import TransformerDecoderBlock\n",
    "from src.models import GPT2SmallModel\n",
    "\n",
    "\n",
    "gpt2_block = model.h[0]\n",
    "my_block = GPT2SmallModel().transformer_blocks[0]\n",
    "#my_block = TransformerDecoderBlock(768, 12, 3072, 'gelu', 'layer_norm', 'mlpblock')\n",
    "\n",
    "my_block.norm_layer1.weight, my_block.norm_layer1.bias = gpt2_block.ln_1.weight, gpt2_block.ln_1.bias\n",
    "my_block.norm_layer2.weight, my_block.norm_layer2.bias = gpt2_block.ln_2.weight, gpt2_block.ln_2.bias\n",
    "\n",
    "my_block.mlp_block.linear1.weight, my_block.mlp_block.linear1.bias = t.nn.Parameter(gpt2_block.mlp.c_fc.weight.T), gpt2_block.mlp.c_fc.bias\n",
    "my_block.mlp_block.linear2.weight, my_block.mlp_block.linear2.bias = t.nn.Parameter(gpt2_block.mlp.c_proj.weight.T), gpt2_block.mlp.c_proj.bias\n",
    "\n",
    "(wq,wk,wv) = t.chunk(gpt2_block.attn.c_attn.weight.T, 3, dim=0)\n",
    "(bq,bk,bv) = t.chunk(gpt2_block.attn.c_attn.bias, 3, dim=0)\n",
    "\n",
    "my_block.mha_block.linear_q.weight, my_block.mha_block.linear_q.bias = t.nn.Parameter(wq), t.nn.Parameter(bq)\n",
    "my_block.mha_block.linear_k.weight, my_block.mha_block.linear_k.bias = t.nn.Parameter(wk), t.nn.Parameter(bk)\n",
    "my_block.mha_block.linear_v.weight, my_block.mha_block.linear_v.bias = t.nn.Parameter(wv), t.nn.Parameter(bv)\n",
    "my_block.mha_block.linear_o.weight, my_block.mha_block.linear_o.bias = t.nn.Parameter(gpt2_block.attn.c_proj.weight.T), gpt2_block.attn.c_proj.bias\n",
    "\n",
    "my_block.eval()\n",
    "gpt2_block.eval()\n",
    "\n",
    "print(gpt2_block)\n",
    "print(my_block)"
   ]
  },
  {
   "cell_type": "markdown",
   "metadata": {},
   "source": [
    "#### Comparing transformer blocks"
   ]
  },
  {
   "cell_type": "code",
   "execution_count": 6,
   "metadata": {},
   "outputs": [
    {
     "name": "stdout",
     "output_type": "stream",
     "text": [
      "GPT2 Transformer block\n",
      "tensor([[[ 12.5908,  -6.6954,  -2.4058,  ...,   3.2182,  -2.4987,  -3.6320],\n",
      "         [  9.7275,   0.5249,  -6.6079,  ...,   1.3819,   8.2928,   5.6790],\n",
      "         [  0.4569,   0.6982,   3.8048,  ...,   2.3666,  -3.6816,  -4.9414],\n",
      "         [  3.3743,  -8.5024,  -9.2940,  ...,  10.8106,   2.6719,   4.6105],\n",
      "         [  2.0780,  -2.1215, -11.5871,  ...,  -9.3378,   8.6726,   2.5591]]],\n",
      "       grad_fn=<AddBackward0>)\n",
      "My transformer block\n",
      "tensor([[[ 12.5898,  -6.6965,  -2.4064,  ...,   3.2177,  -2.5010,  -3.6342],\n",
      "         [  9.7267,   0.5249,  -6.6076,  ...,   1.3793,   8.2916,   5.6779],\n",
      "         [  0.4550,   0.6957,   3.8032,  ...,   2.3663,  -3.6817,  -4.9401],\n",
      "         [  3.3734,  -8.5016,  -9.2952,  ...,  10.8108,   2.6710,   4.6087],\n",
      "         [  2.0779,  -2.1221, -11.5879,  ...,  -9.3391,   8.6724,   2.5579]]],\n",
      "       grad_fn=<AddBackward0>)\n"
     ]
    },
    {
     "data": {
      "text/plain": [
       "True"
      ]
     },
     "execution_count": 6,
     "metadata": {},
     "output_type": "execute_result"
    }
   ],
   "source": [
    "x = t.randn((1,5,768))\n",
    "\n",
    "seq_len = x.shape[-2]\n",
    "att_mask = t.where(t.arange(seq_len).unsqueeze(1) < t.arange(seq_len), -t.inf, 0)\n",
    "\n",
    "gpt2_block.eval()\n",
    "my_block.eval()\n",
    "\n",
    "print(\"GPT2 Transformer block\")\n",
    "print(gpt2_block(x)[0])\n",
    "print(\"My transformer block\")\n",
    "print(my_block(x)[0])\n",
    "\n",
    "t.allclose(gpt2_block(x)[0], my_block(x)[0], atol=1e-2)"
   ]
  },
  {
   "cell_type": "markdown",
   "metadata": {},
   "source": [
    "#### Comparing normalization"
   ]
  },
  {
   "cell_type": "code",
   "execution_count": 7,
   "metadata": {},
   "outputs": [
    {
     "name": "stdout",
     "output_type": "stream",
     "text": [
      "Normalization\n",
      "GPT2 Layer Norm 1\n",
      "tensor([[[-0.2053,  0.0078, -0.2287,  ..., -0.0264, -0.4718, -0.1814],\n",
      "         [ 0.0331,  0.2437, -0.2329,  ..., -0.2384,  0.0220,  0.1560],\n",
      "         [-0.1627, -0.0466, -0.0133,  ...,  0.2635,  0.1210,  0.2487],\n",
      "         [-0.0273, -0.1822, -0.1676,  ...,  0.0253, -0.2074,  0.2309],\n",
      "         [ 0.1170, -0.0384, -0.0365,  ..., -0.2040,  0.2045,  0.0376]]],\n",
      "       grad_fn=<NativeLayerNormBackward0>)\n",
      "My Layer Norm 1\n",
      "tensor([[[-0.2053,  0.0078, -0.2287,  ..., -0.0264, -0.4718, -0.1814],\n",
      "         [ 0.0331,  0.2437, -0.2329,  ..., -0.2384,  0.0220,  0.1560],\n",
      "         [-0.1627, -0.0466, -0.0133,  ...,  0.2635,  0.1210,  0.2487],\n",
      "         [-0.0273, -0.1822, -0.1676,  ...,  0.0253, -0.2074,  0.2309],\n",
      "         [ 0.1170, -0.0384, -0.0365,  ..., -0.2040,  0.2045,  0.0376]]],\n",
      "       grad_fn=<AddBackward0>)\n",
      "GPT2 Layer Norm 2\n",
      "tensor([[[-0.0758,  0.0103, -0.2172,  ..., -0.1221, -3.2162, -0.9391],\n",
      "         [ 0.0640,  0.2817, -0.2228,  ..., -1.5645,  0.2612,  0.9701],\n",
      "         [-0.0508, -0.0522,  0.0729,  ...,  1.8509,  0.9582,  1.4949],\n",
      "         [ 0.0286, -0.2083, -0.1350,  ...,  0.2300, -1.3544,  1.3939],\n",
      "         [ 0.1133, -0.0429,  0.0416,  ..., -1.3310,  1.5462,  0.2999]]],\n",
      "       grad_fn=<NativeLayerNormBackward0>)\n",
      "My Layer Norm 2\n",
      "tensor([[[-0.0758,  0.0103, -0.2172,  ..., -0.1221, -3.2162, -0.9391],\n",
      "         [ 0.0640,  0.2817, -0.2228,  ..., -1.5645,  0.2612,  0.9701],\n",
      "         [-0.0508, -0.0522,  0.0729,  ...,  1.8509,  0.9582,  1.4949],\n",
      "         [ 0.0286, -0.2083, -0.1350,  ...,  0.2300, -1.3544,  1.3939],\n",
      "         [ 0.1133, -0.0429,  0.0416,  ..., -1.3310,  1.5462,  0.2999]]],\n",
      "       grad_fn=<AddBackward0>)\n",
      "True\n",
      "True\n"
     ]
    }
   ],
   "source": [
    "print(\"Normalization\")\n",
    "\n",
    "print(\"GPT2 Layer Norm 1\")\n",
    "print(gpt2_block.ln_1(x))\n",
    "print(\"My Layer Norm 1\")\n",
    "print(my_block.norm_layer1(x))\n",
    "\n",
    "print(\"GPT2 Layer Norm 2\")\n",
    "print(gpt2_block.ln_2(x))\n",
    "print(\"My Layer Norm 2\")\n",
    "print(my_block.norm_layer2(x))\n",
    "\n",
    "print(t.allclose(my_block.norm_layer1(x), gpt2_block.ln_1(x), atol=1e-7))\n",
    "print(t.allclose(my_block.norm_layer2(x), gpt2_block.ln_2(x), atol=1e-7))\n"
   ]
  },
  {
   "cell_type": "markdown",
   "metadata": {},
   "source": [
    "#### Comparing attention"
   ]
  },
  {
   "cell_type": "code",
   "execution_count": 10,
   "metadata": {},
   "outputs": [
    {
     "name": "stdout",
     "output_type": "stream",
     "text": [
      "Multi-head attention\n",
      "GPT2 Attention\n",
      "tensor([[[ 1.1816e+01, -1.1000e+00,  4.8975e+00,  ..., -1.9040e-01,\n",
      "           1.4437e-01, -7.6243e-01],\n",
      "         [ 2.1397e+01,  3.3469e+00, -1.4271e+00,  ...,  1.2569e+00,\n",
      "          -1.4903e+00, -2.0294e-03],\n",
      "         [-8.0171e+00, -3.6174e+00,  3.2031e+00,  ...,  8.7513e-01,\n",
      "          -9.2649e-01,  5.2257e-01],\n",
      "         [-7.1662e+00, -2.0880e+01,  1.4626e+01,  ...,  9.2103e-01,\n",
      "           9.0435e-01,  8.1361e-01],\n",
      "         [ 5.4927e+00, -1.4809e+01,  8.0521e+00,  ..., -5.0653e-01,\n",
      "          -6.8631e-01, -1.0216e+00]]], grad_fn=<ViewBackward0>)\n",
      "My attention\n",
      "tensor([[[ 1.1816e+01, -1.1000e+00,  4.8975e+00,  ..., -1.9040e-01,\n",
      "           1.4437e-01, -7.6243e-01],\n",
      "         [ 2.1397e+01,  3.3469e+00, -1.4271e+00,  ...,  1.2569e+00,\n",
      "          -1.4903e+00, -2.0287e-03],\n",
      "         [-8.0171e+00, -3.6174e+00,  3.2031e+00,  ...,  8.7513e-01,\n",
      "          -9.2649e-01,  5.2257e-01],\n",
      "         [-7.1662e+00, -2.0880e+01,  1.4626e+01,  ...,  9.2104e-01,\n",
      "           9.0435e-01,  8.1362e-01],\n",
      "         [ 5.4927e+00, -1.4809e+01,  8.0521e+00,  ..., -5.0653e-01,\n",
      "          -6.8631e-01, -1.0216e+00]]], grad_fn=<AsStridedBackward0>)\n",
      "True\n"
     ]
    }
   ],
   "source": [
    "print(\"Multi-head attention\")\n",
    "print(\"GPT2 Attention\")\n",
    "print(gpt2_block.attn(x)[0])\n",
    "print(\"My attention\")\n",
    "print(my_block.mha_block(x, attention_mask=att_mask)[0])\n",
    "\n",
    "\n",
    "print(t.allclose(my_block.mha_block(x, attention_mask=att_mask)[0], gpt2_block.attn(x)[0], atol=1e-4))"
   ]
  },
  {
   "cell_type": "markdown",
   "metadata": {},
   "source": [
    "#### Comparing MLP"
   ]
  },
  {
   "cell_type": "code",
   "execution_count": 13,
   "metadata": {},
   "outputs": [
    {
     "name": "stdout",
     "output_type": "stream",
     "text": [
      "MLP\n",
      "GPT2 MLP\n",
      "tensor([[[ 2.0432e+01, -7.8817e-01, -8.1349e+00,  ...,  8.2477e+00,\n",
      "           8.5021e+00, -6.4954e+00],\n",
      "         [ 1.1286e+01, -6.0089e+00, -1.3163e+01,  ..., -2.5606e-01,\n",
      "           1.3157e+01,  7.2588e+00],\n",
      "         [-2.0909e-02,  2.0334e-02,  3.1577e+00,  ...,  5.4568e+00,\n",
      "          -1.6100e+01, -1.0993e+01],\n",
      "         [ 1.1805e+01, -1.0026e+00, -1.9776e+01,  ...,  2.2704e+01,\n",
      "           5.3657e+00, -9.5716e-03],\n",
      "         [ 5.8687e+00, -1.5317e+00, -1.6565e+01,  ..., -4.3700e+00,\n",
      "           3.3641e+00,  7.3793e-01]]], grad_fn=<ViewBackward0>)\n",
      "My MLP\n",
      "tensor([[[ 2.0431e+01, -7.8880e-01, -8.1335e+00,  ...,  8.2477e+00,\n",
      "           8.5018e+00, -6.4947e+00],\n",
      "         [ 1.1286e+01, -6.0088e+00, -1.3162e+01,  ..., -2.5659e-01,\n",
      "           1.3156e+01,  7.2580e+00],\n",
      "         [-2.1170e-02,  1.9706e-02,  3.1581e+00,  ...,  5.4568e+00,\n",
      "          -1.6099e+01, -1.0994e+01],\n",
      "         [ 1.1806e+01, -1.0025e+00, -1.9776e+01,  ...,  2.2704e+01,\n",
      "           5.3651e+00, -9.9052e-03],\n",
      "         [ 5.8673e+00, -1.5320e+00, -1.6564e+01,  ..., -4.3701e+00,\n",
      "           3.3631e+00,  7.3746e-01]]], grad_fn=<AsStridedBackward0>)\n",
      "True\n"
     ]
    }
   ],
   "source": [
    "print(\"MLP\")\n",
    "print(\"GPT2 MLP\")\n",
    "print(gpt2_block.mlp(x))\n",
    "print(\"My MLP\")\n",
    "print(my_block.mlp_block(x))\n",
    "\n",
    "print(t.allclose(my_block.mlp_block(x), gpt2_block.mlp(x), atol=2e-2))"
   ]
  },
  {
   "cell_type": "markdown",
   "metadata": {},
   "source": [
    "#### Comparing GeLU"
   ]
  },
  {
   "cell_type": "code",
   "execution_count": 14,
   "metadata": {},
   "outputs": [
    {
     "name": "stdout",
     "output_type": "stream",
     "text": [
      "GeLU\n",
      "GPT2 GeLU\n",
      "tensor([-0.1293,  0.7659, -0.1003, -0.0208,  0.1889, -0.1695, -0.0808, -0.1481,\n",
      "         1.5389, -0.1255])\n",
      "My GeLU\n",
      "tensor([-0.1293,  0.7660, -0.1001, -0.0212,  0.1889, -0.1694, -0.0808, -0.1479,\n",
      "         1.5391, -0.1253])\n",
      "Torch GeLU\n",
      "tensor([-0.1293,  0.7660, -0.1001, -0.0212,  0.1889, -0.1694, -0.0808, -0.1479,\n",
      "         1.5391, -0.1253])\n"
     ]
    }
   ],
   "source": [
    "from src.activations import gelu\n",
    "from torch.nn.functional import gelu as torch_gelu\n",
    "\n",
    "print(\"GeLU\")\n",
    "x = t.randn((10,))\n",
    "\n",
    "print(\"GPT2 GeLU\")\n",
    "print(gpt2_block.mlp.act(x))\n",
    "print(\"My GeLU\")\n",
    "print(gelu(x))\n",
    "print(\"Torch GeLU\")\n",
    "print(torch_gelu(x))\n"
   ]
  },
  {
   "cell_type": "markdown",
   "metadata": {},
   "source": [
    "#### Comparing MLP using GPT2 GeLU"
   ]
  },
  {
   "cell_type": "code",
   "execution_count": 18,
   "metadata": {},
   "outputs": [
    {
     "name": "stdout",
     "output_type": "stream",
     "text": [
      "My MLP with their GELU\n",
      "GPT2 MLP Block\n",
      "tensor([[[ 16.8194,   7.7999, -21.8079,  ...,   2.2190,   7.4548,  -5.9318],\n",
      "         [ -0.8979,   0.6438, -18.4866,  ...,  16.4639,   9.0948,  14.2512],\n",
      "         [ 11.9351, -38.4903,  -8.8888,  ...,  -7.8183,  14.3466,  28.1684],\n",
      "         ...,\n",
      "         [ -8.6321,  -7.5341,  -9.3735,  ...,  18.3597,  -2.0436,   2.5461],\n",
      "         [ 13.7143,   8.5250, -17.8349,  ...,   9.8425,  -0.4575,  11.3794],\n",
      "         [ 13.0540,   5.1588,  -5.2415,  ...,  -1.3216,  -3.6718,  20.2367]]],\n",
      "       grad_fn=<ViewBackward0>)\n",
      "My MLP Block with GPT2 GeLU\n",
      "tensor([[[ 16.8194,   7.7999, -21.8079,  ...,   2.2190,   7.4548,  -5.9318],\n",
      "         [ -0.8979,   0.6438, -18.4866,  ...,  16.4639,   9.0948,  14.2512],\n",
      "         [ 11.9351, -38.4903,  -8.8888,  ...,  -7.8183,  14.3466,  28.1684],\n",
      "         ...,\n",
      "         [ -8.6321,  -7.5341,  -9.3735,  ...,  18.3597,  -2.0436,   2.5461],\n",
      "         [ 13.7143,   8.5250, -17.8349,  ...,   9.8425,  -0.4575,  11.3794],\n",
      "         [ 13.0540,   5.1588,  -5.2415,  ...,  -1.3216,  -3.6718,  20.2367]]],\n",
      "       grad_fn=<AsStridedBackward0>)\n",
      "True\n",
      "The main difference between our models is in the MLP block, because OpenAI used a slightly different version of GeLU.\n"
     ]
    }
   ],
   "source": [
    "print(\"My MLP with their GELU\")\n",
    "x = t.randn((1, 10, 768))\n",
    "\n",
    "print(\"GPT2 MLP Block\")\n",
    "gpt2_mlp = gpt2_block.mlp(x)\n",
    "print(gpt2_mlp)\n",
    "\n",
    "print(\"My MLP Block with GPT2 GeLU\")\n",
    "my_mlp = my_block.mlp_block.linear2(gpt2_block.mlp.act(my_block.mlp_block.linear1(x)))\n",
    "print(my_mlp)\n",
    "\n",
    "print(t.allclose(gpt2_mlp, my_mlp, atol=1e-4))\n",
    "\n",
    "print(\"The main difference between our models is in the MLP block, because OpenAI used a slightly different version of GeLU.\")"
   ]
  },
  {
   "cell_type": "markdown",
   "metadata": {},
   "source": [
    "## Comparing GPT2 embedding with my implementation of the GPT2 embedding"
   ]
  },
  {
   "cell_type": "code",
   "execution_count": 29,
   "metadata": {},
   "outputs": [
    {
     "data": {
      "text/plain": [
       "tensor([[1212,  318,  257, 1332, 6827,   13]])"
      ]
     },
     "execution_count": 29,
     "metadata": {},
     "output_type": "execute_result"
    }
   ],
   "source": [
    "from src.models import GPT2SmallModel\n",
    "my_model = GPT2SmallModel()\n",
    "\n",
    "from transformers import GPT2Tokenizer, GPT2Model\n",
    "tokenizer = GPT2Tokenizer.from_pretrained('gpt2')\n",
    "model = GPT2Model.from_pretrained('gpt2')\n",
    "\n",
    "my_model.embedding_layer.position_embedding_layer.weight = model.wpe.weight\n",
    "my_model.embedding_layer.token_embedding_layer.weight = model.wte.weight\n",
    "\n",
    "text = \"This is a test sentence.\"\n",
    "tokens = t.tensor(tokenizer(text)['input_ids']).unsqueeze(0)\n",
    "tokens"
   ]
  },
  {
   "cell_type": "code",
   "execution_count": 30,
   "metadata": {},
   "outputs": [
    {
     "name": "stdout",
     "output_type": "stream",
     "text": [
      "Embedding outputs\n",
      "GPT2 embedding output\n",
      "tensor([[[ 0.0065, -0.2930,  0.0762,  ...,  0.0184, -0.0275,  0.1638],\n",
      "         [ 0.0142, -0.0437, -0.0393,  ...,  0.1487, -0.0278, -0.0255],\n",
      "         [-0.0464, -0.0791,  0.1016,  ...,  0.0623,  0.0928, -0.0598],\n",
      "         [-0.0580,  0.0095,  0.2207,  ..., -0.0635,  0.0760, -0.0543],\n",
      "         [-0.0888, -0.0326,  0.1666,  ..., -0.2539, -0.0370, -0.2046],\n",
      "         [ 0.0562, -0.0452,  0.1596,  ..., -0.0676,  0.0567,  0.0888]]],\n",
      "       grad_fn=<AddBackward0>)\n",
      "My embedding output\n",
      "tensor([[[ 0.0065, -0.2930,  0.0762,  ...,  0.0184, -0.0275,  0.1638],\n",
      "         [ 0.0142, -0.0437, -0.0393,  ...,  0.1487, -0.0278, -0.0255],\n",
      "         [-0.0464, -0.0791,  0.1016,  ...,  0.0623,  0.0928, -0.0598],\n",
      "         [-0.0580,  0.0095,  0.2207,  ..., -0.0635,  0.0760, -0.0543],\n",
      "         [-0.0888, -0.0326,  0.1666,  ..., -0.2539, -0.0370, -0.2046],\n",
      "         [ 0.0562, -0.0452,  0.1596,  ..., -0.0676,  0.0567,  0.0888]]],\n",
      "       grad_fn=<AddBackward0>)\n"
     ]
    },
    {
     "data": {
      "text/plain": [
       "True"
      ]
     },
     "execution_count": 30,
     "metadata": {},
     "output_type": "execute_result"
    }
   ],
   "source": [
    "print(\"Embedding outputs\")\n",
    "print(\"GPT2 embedding output\")\n",
    "gpt2_emb_out = model.wte(tokens) + model.wpe(t.arange(tokens.shape[-1]))\n",
    "print(gpt2_emb_out)\n",
    "print(\"My embedding output\")\n",
    "my_emb_out = my_model.embedding_layer(tokens)\n",
    "print(my_emb_out)\n",
    "\n",
    "t.allclose(gpt2_emb_out, my_emb_out)"
   ]
  },
  {
   "cell_type": "markdown",
   "metadata": {},
   "source": [
    "## Comparing GPT2 model vs. my implementation of the GPT2 model"
   ]
  },
  {
   "cell_type": "code",
   "execution_count": 31,
   "metadata": {},
   "outputs": [
    {
     "data": {
      "text/plain": [
       "tensor([[1212,  318,  257, 1332, 6827,   13]])"
      ]
     },
     "execution_count": 31,
     "metadata": {},
     "output_type": "execute_result"
    }
   ],
   "source": [
    "from src.models import GPT2SmallModel\n",
    "my_model = GPT2SmallModel()\n",
    "my_model.eval()\n",
    "\n",
    "# Importing GPT2LMHeadModel instead of GPT2Model because it applies the final unembed to get logits\n",
    "from transformers import AutoTokenizer, GPT2LMHeadModel\n",
    "tokenizer = AutoTokenizer.from_pretrained(\"openai-community/gpt2\")\n",
    "gpt2_model = GPT2LMHeadModel.from_pretrained(\"openai-community/gpt2\")\n",
    "gpt2_model.eval()\n",
    "\n",
    "text = \"This is a test sentence.\"\n",
    "tokens = t.tensor(tokenizer(text)['input_ids']).unsqueeze(0)\n",
    "tokens"
   ]
  },
  {
   "cell_type": "code",
   "execution_count": 32,
   "metadata": {},
   "outputs": [],
   "source": [
    "# Copying over weights\n",
    "my_model.embedding_layer.position_embedding_layer.weight = gpt2_model.transformer.wpe.weight\n",
    "my_model.embedding_layer.token_embedding_layer.weight = gpt2_model.transformer.wte.weight\n",
    "\n",
    "my_model.final_ln.weight, my_model.final_ln.bias = gpt2_model.transformer.ln_f.weight, gpt2_model.transformer.ln_f.bias\n",
    "\n",
    "my_model_block_list = my_model.transformer_blocks\n",
    "gpt2_model_block_list = gpt2_model.transformer.h\n",
    "\n",
    "for my_block, gpt2_block in zip(my_model_block_list, gpt2_model_block_list):\n",
    "    my_block.norm_layer1.weight, my_block.norm_layer1.bias = gpt2_block.ln_1.weight, gpt2_block.ln_1.bias\n",
    "    my_block.norm_layer2.weight, my_block.norm_layer2.bias = gpt2_block.ln_2.weight, gpt2_block.ln_2.bias\n",
    "\n",
    "    my_block.mlp_block.linear1.weight, my_block.mlp_block.linear1.bias = t.nn.Parameter(gpt2_block.mlp.c_fc.weight.T), gpt2_block.mlp.c_fc.bias\n",
    "    my_block.mlp_block.linear2.weight, my_block.mlp_block.linear2.bias = t.nn.Parameter(gpt2_block.mlp.c_proj.weight.T), gpt2_block.mlp.c_proj.bias\n",
    "\n",
    "    (wq,wk,wv) = t.chunk(gpt2_block.attn.c_attn.weight.T, 3, dim=0)\n",
    "    (bq,bk,bv) = t.chunk(gpt2_block.attn.c_attn.bias, 3, dim=0)\n",
    "\n",
    "    my_block.mha_block.linear_q.weight, my_block.mha_block.linear_q.bias = t.nn.Parameter(wq), t.nn.Parameter(bq)\n",
    "    my_block.mha_block.linear_k.weight, my_block.mha_block.linear_k.bias = t.nn.Parameter(wk), t.nn.Parameter(bk)\n",
    "    my_block.mha_block.linear_v.weight, my_block.mha_block.linear_v.bias = t.nn.Parameter(wv), t.nn.Parameter(bv)\n",
    "    my_block.mha_block.linear_o.weight, my_block.mha_block.linear_o.bias = t.nn.Parameter(gpt2_block.attn.c_proj.weight.T), gpt2_block.attn.c_proj.bias\n"
   ]
  },
  {
   "cell_type": "markdown",
   "metadata": {},
   "source": [
    "### Logit outputs"
   ]
  },
  {
   "cell_type": "code",
   "execution_count": 33,
   "metadata": {},
   "outputs": [
    {
     "name": "stdout",
     "output_type": "stream",
     "text": [
      "Model logits\n",
      "GPT2 model logits\n",
      "tensor([[[ -35.8890,  -35.2049,  -39.1336,  ...,  -42.4869,  -41.8197,\n",
      "           -36.0383],\n",
      "         [-107.7291, -108.0175, -113.2967,  ..., -116.4645, -115.7443,\n",
      "          -110.8654],\n",
      "         [-111.7507, -111.5704, -114.5443,  ..., -120.7242, -117.1756,\n",
      "          -112.3996],\n",
      "         [ -86.1846,  -88.5057,  -94.3530,  ..., -101.3573,  -98.6974,\n",
      "           -91.1616],\n",
      "         [-106.4531, -108.7300, -115.4155,  ..., -119.6631, -119.1774,\n",
      "          -110.7877],\n",
      "         [-146.7139, -145.9828, -146.9487,  ..., -155.2113, -158.0557,\n",
      "          -139.4035]]], grad_fn=<UnsafeViewBackward0>)\n",
      "My model logits\n",
      "tensor([[[ -35.8260,  -35.1460,  -39.0735,  ...,  -42.4222,  -41.7547,\n",
      "           -35.9785],\n",
      "         [-107.7155, -108.0055, -113.2770,  ..., -116.4519, -115.7324,\n",
      "          -110.8482],\n",
      "         [-111.7447, -111.5662, -114.5354,  ..., -120.7213, -117.1712,\n",
      "          -112.3930],\n",
      "         [ -86.1794,  -88.5035,  -94.3420,  ..., -101.3490,  -98.6924,\n",
      "           -91.1553],\n",
      "         [-106.4438, -108.7262, -115.3992,  ..., -119.6509, -119.1691,\n",
      "          -110.7780],\n",
      "         [-146.6986, -145.9709, -146.9278,  ..., -155.1906, -158.0314,\n",
      "          -139.3904]]], grad_fn=<ViewBackward0>)\n",
      "True\n"
     ]
    }
   ],
   "source": [
    "print(\"Model logits\")\n",
    "print(\"GPT2 model logits\")\n",
    "gpt2_logits = gpt2_model(**tokenizer(text, return_tensors='pt')).logits\n",
    "print(gpt2_logits)\n",
    "print(\"My model logits\")\n",
    "my_logits = my_model(tokens)\n",
    "print(my_logits)\n",
    "\n",
    "print(t.allclose(gpt2_logits, my_logits, atol=1e-1))"
   ]
  },
  {
   "cell_type": "markdown",
   "metadata": {},
   "source": [
    "### Argmax sampling"
   ]
  },
  {
   "cell_type": "code",
   "execution_count": 34,
   "metadata": {},
   "outputs": [
    {
     "data": {
      "text/plain": [
       "{'input_ids': tensor([[  464, 13601,  4196,    11,   416,  5564,  1940, 41471,    13,   220,\n",
       "           198, 26302,   379,  1755,    11]]), 'attention_mask': tensor([[1, 1, 1, 1, 1, 1, 1, 1, 1, 1, 1, 1, 1, 1, 1]])}"
      ]
     },
     "execution_count": 34,
     "metadata": {},
     "output_type": "execute_result"
    }
   ],
   "source": [
    "text = \"The Large Apple, by Roald Dahl. \\nLate at night,\"\n",
    "tokens_gpt2 = tokenizer(text, return_tensors='pt')\n",
    "tokens_curr = tokenizer(text, return_tensors='pt')['input_ids']\n",
    "\n",
    "tokens_gpt2"
   ]
  },
  {
   "cell_type": "code",
   "execution_count": 35,
   "metadata": {},
   "outputs": [],
   "source": [
    "for i in range(10):\n",
    "    gpt2_next_token = gpt2_model(**tokens_gpt2).logits[0][-1].argmax()\n",
    "    my_model_next_token = my_model(tokens_curr)[0][-1].argmax()\n",
    "\n",
    "    tokens_gpt2['input_ids'] = t.cat([tokens_gpt2['input_ids'], gpt2_next_token.reshape((1,1))], dim=1)\n",
    "    tokens_gpt2['attention_mask'] = t.cat([tokens_gpt2['attention_mask'], t.tensor(1).reshape((1,1))], dim=1)\n",
    "    tokens_curr = t.cat([tokens_curr, my_model_next_token.reshape((1,1))], dim=1)"
   ]
  },
  {
   "cell_type": "code",
   "execution_count": 36,
   "metadata": {},
   "outputs": [
    {
     "name": "stdout",
     "output_type": "stream",
     "text": [
      "GPT2 argmax output\n",
      "The Large Apple, by Roald Dahl. \n",
      "Late at night, I was sitting in the living room of my home\n",
      "\n",
      "My implementation output\n",
      "The Large Apple, by Roald Dahl. \n",
      "Late at night, I was sitting in the living room of my home\n"
     ]
    }
   ],
   "source": [
    "print(\"GPT2 argmax output\")\n",
    "print(''.join(tokenizer.convert_ids_to_tokens(tokens_gpt2['input_ids'][0])).replace('Ġ', ' ').replace('Ċ', '\\n'))\n",
    "print()\n",
    "print(\"My implementation output\")\n",
    "print(''.join(tokenizer.convert_ids_to_tokens(tokens_curr[0])).replace('Ġ', ' ').replace('Ċ', '\\n'))"
   ]
  },
  {
   "cell_type": "markdown",
   "metadata": {},
   "source": [
    "## Normal sampling from my version of the GPT-2 model"
   ]
  },
  {
   "cell_type": "code",
   "execution_count": 40,
   "metadata": {},
   "outputs": [
    {
     "data": {
      "text/plain": [
       "tensor([[  818,   257, 14702,  4917,    11, 11444,  5071,   257, 27638,   286,\n",
       "         28000, 19942,  2877,   287,   257,  6569,    11,  4271, 31286,  1850,\n",
       "         19272,    11,   287,   262,   843,   274, 21124,    13,  3412,   517,\n",
       "          6452,   284,   262,  4837,   373,   262,  1109,   326,   262, 28000,\n",
       "         19942,  5158,  2818,  3594,    13]])"
      ]
     },
     "execution_count": 40,
     "metadata": {},
     "output_type": "execute_result"
    }
   ],
   "source": [
    "# https://openai.com/index/better-language-models/\n",
    "text = \"In a shocking finding, scientist discovered a herd of unicorns living in a remote, previously unexplored valley, in the Andes Mountains. Even more surprising to the researchers was the fact that the unicorns spoke perfect English.\"\n",
    "tokens = tokenizer(text, return_tensors='pt')['input_ids']\n",
    "\n",
    "tokens"
   ]
  },
  {
   "cell_type": "code",
   "execution_count": 41,
   "metadata": {},
   "outputs": [],
   "source": [
    "for i in range(100):\n",
    "    my_model_next_token = t.multinomial(t.softmax(my_model(tokens)[0][-1], dim=0), 1)\n",
    "\n",
    "    tokens = t.cat([tokens, my_model_next_token.unsqueeze(0)], dim=1)"
   ]
  },
  {
   "cell_type": "code",
   "execution_count": 39,
   "metadata": {},
   "outputs": [
    {
     "name": "stdout",
     "output_type": "stream",
     "text": [
      "GPT2 completion of unicorn prompt\n",
      "In a shocking finding, scientist discovered a herd of unicorns living in a remote, previously unexplored valley, in the Andes Mountains. Even more surprising to the researchers was the fact that the unicorns spoke perfect English. This clearly opens the door to potential insights into human language.\n",
      "\n",
      "Warwicz had his humble beginnings in the fall of 1948 as a visiting missionary at Judeo-Christian monastery in Guatemala City, growing up in the tightly knit neighborhoods of Bolivian refugee camps, living close to his ancestral families, where his desire to learn had never been burned. Lacking a university education, he passed Jeremiah B. McCaw in segregation and Catholic school records, and was the youngest of three children. He\n"
     ]
    }
   ],
   "source": [
    "print(\"GPT2 completion of unicorn prompt\")\n",
    "print(''.join(tokenizer.convert_ids_to_tokens(tokens[0])).replace('Ġ', ' ').replace('Ċ', '\\n'))"
   ]
  }
 ],
 "metadata": {
  "kernelspec": {
   "display_name": "gen_dev",
   "language": "python",
   "name": "gen_dev"
  },
  "language_info": {
   "codemirror_mode": {
    "name": "ipython",
    "version": 3
   },
   "file_extension": ".py",
   "mimetype": "text/x-python",
   "name": "python",
   "nbconvert_exporter": "python",
   "pygments_lexer": "ipython3",
   "version": "3.7.2"
  },
  "orig_nbformat": 4,
  "vscode": {
   "interpreter": {
    "hash": "4e1a9d7885dea6998a7a132fd9b87478e1e0c0674c7c69db4242a360dd50e282"
   }
  }
 },
 "nbformat": 4,
 "nbformat_minor": 2
}
